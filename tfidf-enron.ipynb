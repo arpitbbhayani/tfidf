{
 "cells": [
  {
   "cell_type": "code",
   "execution_count": 1,
   "metadata": {},
   "outputs": [],
   "source": [
    "DATA_DIR = \"./data\""
   ]
  },
  {
   "cell_type": "code",
   "execution_count": 21,
   "metadata": {},
   "outputs": [],
   "source": [
    "class Document(object):\n",
    "    def __init__(self, data):\n",
    "        self.documentId = data['documentId']\n",
    "        self.time = data['time']\n",
    "        self.sender = data['sender']\n",
    "        self.sender_id = data['sender_id']\n",
    "        self.body = data['message']"
   ]
  },
  {
   "cell_type": "code",
   "execution_count": 33,
   "metadata": {},
   "outputs": [],
   "source": [
    "import os\n",
    "import email\n",
    "import json\n",
    "\n",
    "def clean_body(body):\n",
    "    patterns = [\n",
    "        \"-----Original Message-----\",\n",
    "        \"***************************\",\n",
    "        \"----------------------\",\n",
    "    ]\n",
    "    for pattern in patterns:\n",
    "        index = body.find(pattern)\n",
    "        if index != -1:\n",
    "            body = body[:index]\n",
    "    return body.strip()\n",
    "        \n",
    "\n",
    "def load_corpus():\n",
    "    index = 0\n",
    "    users = {}\n",
    "    corpus = []\n",
    "    with open(os.path.join(DATA_DIR, \"users.json\")) as f:\n",
    "        for k, v in json.loads(f.read()).items():\n",
    "            users[v] = k\n",
    "    with open(os.path.join(DATA_DIR, \"messages.json\")) as f:\n",
    "        data = json.loads(f.read())\n",
    "        for msg in data:\n",
    "            body = clean_body(msg[\"message\"])\n",
    "            if not body:\n",
    "                continue\n",
    "            corpus.append(Document({\n",
    "                \"documentId\": index,\n",
    "                \"time\": msg[\"time\"],\n",
    "                \"sender\": msg[\"sender\"],\n",
    "                \"sender_id\": users[msg[\"sender\"]],\n",
    "                \"message\": body,\n",
    "            }))\n",
    "            index += 1\n",
    "    return corpus"
   ]
  },
  {
   "cell_type": "code",
   "execution_count": 34,
   "metadata": {},
   "outputs": [],
   "source": [
    "corpus = load_corpus()"
   ]
  },
  {
   "cell_type": "code",
   "execution_count": 35,
   "metadata": {},
   "outputs": [],
   "source": [
    "import re\n",
    "\n",
    "def sanitize(text):\n",
    "    return re.sub('[^a-z]+', ' ', text.lower())"
   ]
  },
  {
   "cell_type": "code",
   "execution_count": 36,
   "metadata": {},
   "outputs": [],
   "source": [
    "def tokenize(text):\n",
    "    return text.split()"
   ]
  },
  {
   "cell_type": "code",
   "execution_count": 37,
   "metadata": {},
   "outputs": [],
   "source": [
    "from collections import defaultdict, Counter\n",
    "\n",
    "def build_inverted_index(corpus, field=\"body\"):\n",
    "    index = defaultdict(dict)\n",
    "    for i, doc in enumerate(corpus):\n",
    "        words_counter = Counter(tokenize(sanitize(getattr(doc, field))))\n",
    "        for word, count in words_counter.items():\n",
    "            index[word][doc.documentId] = count\n",
    "    return index"
   ]
  },
  {
   "cell_type": "code",
   "execution_count": 38,
   "metadata": {},
   "outputs": [],
   "source": [
    "inverted_index = build_inverted_index(corpus)"
   ]
  },
  {
   "cell_type": "code",
   "execution_count": null,
   "metadata": {},
   "outputs": [],
   "source": []
  }
 ],
 "metadata": {
  "kernelspec": {
   "display_name": "Python 3",
   "language": "python",
   "name": "python3"
  },
  "language_info": {
   "codemirror_mode": {
    "name": "ipython",
    "version": 3
   },
   "file_extension": ".py",
   "mimetype": "text/x-python",
   "name": "python",
   "nbconvert_exporter": "python",
   "pygments_lexer": "ipython3",
   "version": "3.7.6"
  }
 },
 "nbformat": 4,
 "nbformat_minor": 4
}
